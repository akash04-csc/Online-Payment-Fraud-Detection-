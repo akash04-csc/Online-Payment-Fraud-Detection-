{
 "cells": [
  {
   "cell_type": "code",
   "execution_count": 4,
   "id": "9aad99f9",
   "metadata": {},
   "outputs": [],
   "source": [
    "import pandas as pd\n",
    "import matplotlib.pyplot as plt\n",
    "import numpy as np\n",
    "import seaborn as sns\n",
    "import warnings\n",
    "warnings.filterwarnings('ignore')"
   ]
  },
  {
   "cell_type": "code",
   "execution_count": 5,
   "id": "2d8f1486",
   "metadata": {},
   "outputs": [
    {
     "data": {
      "text/html": [
       "<div>\n",
       "<style scoped>\n",
       "    .dataframe tbody tr th:only-of-type {\n",
       "        vertical-align: middle;\n",
       "    }\n",
       "\n",
       "    .dataframe tbody tr th {\n",
       "        vertical-align: top;\n",
       "    }\n",
       "\n",
       "    .dataframe thead th {\n",
       "        text-align: right;\n",
       "    }\n",
       "</style>\n",
       "<table border=\"1\" class=\"dataframe\">\n",
       "  <thead>\n",
       "    <tr style=\"text-align: right;\">\n",
       "      <th></th>\n",
       "      <th>Transaction_ID</th>\n",
       "      <th>User_ID</th>\n",
       "      <th>Transaction_Amount</th>\n",
       "      <th>Transaction_Type</th>\n",
       "      <th>Time_of_Transaction</th>\n",
       "      <th>Device_Used</th>\n",
       "      <th>Location</th>\n",
       "      <th>Previous_Fraudulent_Transactions</th>\n",
       "      <th>Account_Age</th>\n",
       "      <th>Number_of_Transactions_Last_24H</th>\n",
       "      <th>Payment_Method</th>\n",
       "      <th>Fraudulent</th>\n",
       "    </tr>\n",
       "  </thead>\n",
       "  <tbody>\n",
       "    <tr>\n",
       "      <th>0</th>\n",
       "      <td>T1</td>\n",
       "      <td>4174</td>\n",
       "      <td>1292.76</td>\n",
       "      <td>ATM Withdrawal</td>\n",
       "      <td>16.0</td>\n",
       "      <td>Tablet</td>\n",
       "      <td>San Francisco</td>\n",
       "      <td>0</td>\n",
       "      <td>119</td>\n",
       "      <td>13</td>\n",
       "      <td>Debit Card</td>\n",
       "      <td>0</td>\n",
       "    </tr>\n",
       "    <tr>\n",
       "      <th>1</th>\n",
       "      <td>T2</td>\n",
       "      <td>4507</td>\n",
       "      <td>1554.58</td>\n",
       "      <td>ATM Withdrawal</td>\n",
       "      <td>13.0</td>\n",
       "      <td>Mobile</td>\n",
       "      <td>New York</td>\n",
       "      <td>4</td>\n",
       "      <td>79</td>\n",
       "      <td>3</td>\n",
       "      <td>Credit Card</td>\n",
       "      <td>0</td>\n",
       "    </tr>\n",
       "  </tbody>\n",
       "</table>\n",
       "</div>"
      ],
      "text/plain": [
       "  Transaction_ID  User_ID  Transaction_Amount Transaction_Type  \\\n",
       "0             T1     4174             1292.76   ATM Withdrawal   \n",
       "1             T2     4507             1554.58   ATM Withdrawal   \n",
       "\n",
       "   Time_of_Transaction Device_Used       Location  \\\n",
       "0                 16.0      Tablet  San Francisco   \n",
       "1                 13.0      Mobile       New York   \n",
       "\n",
       "   Previous_Fraudulent_Transactions  Account_Age  \\\n",
       "0                                 0          119   \n",
       "1                                 4           79   \n",
       "\n",
       "   Number_of_Transactions_Last_24H Payment_Method  Fraudulent  \n",
       "0                               13     Debit Card           0  \n",
       "1                                3    Credit Card           0  "
      ]
     },
     "execution_count": 5,
     "metadata": {},
     "output_type": "execute_result"
    }
   ],
   "source": [
    "df=pd.read_csv(\"Fraud Detection Dataset.csv\")\n",
    "df.head(2)"
   ]
  },
  {
   "cell_type": "code",
   "execution_count": 187,
   "id": "239600e3",
   "metadata": {},
   "outputs": [
    {
     "name": "stdout",
     "output_type": "stream",
     "text": [
      "<class 'pandas.core.frame.DataFrame'>\n",
      "RangeIndex: 51000 entries, 0 to 50999\n",
      "Data columns (total 12 columns):\n",
      " #   Column                            Non-Null Count  Dtype  \n",
      "---  ------                            --------------  -----  \n",
      " 0   Transaction_ID                    51000 non-null  object \n",
      " 1   User_ID                           51000 non-null  int64  \n",
      " 2   Transaction_Amount                48480 non-null  float64\n",
      " 3   Transaction_Type                  51000 non-null  object \n",
      " 4   Time_of_Transaction               48448 non-null  float64\n",
      " 5   Device_Used                       48527 non-null  object \n",
      " 6   Location                          48453 non-null  object \n",
      " 7   Previous_Fraudulent_Transactions  51000 non-null  int64  \n",
      " 8   Account_Age                       51000 non-null  int64  \n",
      " 9   Number_of_Transactions_Last_24H   51000 non-null  int64  \n",
      " 10  Payment_Method                    48531 non-null  object \n",
      " 11  Fraudulent                        51000 non-null  int64  \n",
      "dtypes: float64(2), int64(5), object(5)\n",
      "memory usage: 4.7+ MB\n"
     ]
    }
   ],
   "source": [
    "df.info()"
   ]
  },
  {
   "cell_type": "code",
   "execution_count": 69,
   "id": "b24dadb5",
   "metadata": {},
   "outputs": [
    {
     "data": {
      "text/html": [
       "<div>\n",
       "<style scoped>\n",
       "    .dataframe tbody tr th:only-of-type {\n",
       "        vertical-align: middle;\n",
       "    }\n",
       "\n",
       "    .dataframe tbody tr th {\n",
       "        vertical-align: top;\n",
       "    }\n",
       "\n",
       "    .dataframe thead th {\n",
       "        text-align: right;\n",
       "    }\n",
       "</style>\n",
       "<table border=\"1\" class=\"dataframe\">\n",
       "  <thead>\n",
       "    <tr style=\"text-align: right;\">\n",
       "      <th></th>\n",
       "      <th>Transaction_Amount</th>\n",
       "      <th>Time_of_Transaction</th>\n",
       "      <th>Previous_Fraudulent_Transactions</th>\n",
       "      <th>Account_Age</th>\n",
       "      <th>Number_of_Transactions_Last_24H</th>\n",
       "      <th>Fraudulent</th>\n",
       "    </tr>\n",
       "  </thead>\n",
       "  <tbody>\n",
       "    <tr>\n",
       "      <th>count</th>\n",
       "      <td>41654.000000</td>\n",
       "      <td>41654.000000</td>\n",
       "      <td>41654.000000</td>\n",
       "      <td>41654.000000</td>\n",
       "      <td>41654.000000</td>\n",
       "      <td>41654.000000</td>\n",
       "    </tr>\n",
       "    <tr>\n",
       "      <th>mean</th>\n",
       "      <td>2995.321613</td>\n",
       "      <td>11.471455</td>\n",
       "      <td>1.996663</td>\n",
       "      <td>59.915782</td>\n",
       "      <td>7.503193</td>\n",
       "      <td>0.048735</td>\n",
       "    </tr>\n",
       "    <tr>\n",
       "      <th>std</th>\n",
       "      <td>4923.540252</td>\n",
       "      <td>6.910507</td>\n",
       "      <td>1.414541</td>\n",
       "      <td>34.354145</td>\n",
       "      <td>4.017987</td>\n",
       "      <td>0.215316</td>\n",
       "    </tr>\n",
       "    <tr>\n",
       "      <th>min</th>\n",
       "      <td>5.030000</td>\n",
       "      <td>0.000000</td>\n",
       "      <td>0.000000</td>\n",
       "      <td>1.000000</td>\n",
       "      <td>1.000000</td>\n",
       "      <td>0.000000</td>\n",
       "    </tr>\n",
       "    <tr>\n",
       "      <th>25%</th>\n",
       "      <td>1329.010000</td>\n",
       "      <td>5.000000</td>\n",
       "      <td>1.000000</td>\n",
       "      <td>30.000000</td>\n",
       "      <td>4.000000</td>\n",
       "      <td>0.000000</td>\n",
       "    </tr>\n",
       "    <tr>\n",
       "      <th>50%</th>\n",
       "      <td>2651.460000</td>\n",
       "      <td>12.000000</td>\n",
       "      <td>2.000000</td>\n",
       "      <td>60.000000</td>\n",
       "      <td>7.000000</td>\n",
       "      <td>0.000000</td>\n",
       "    </tr>\n",
       "    <tr>\n",
       "      <th>75%</th>\n",
       "      <td>3718.207500</td>\n",
       "      <td>17.000000</td>\n",
       "      <td>3.000000</td>\n",
       "      <td>90.000000</td>\n",
       "      <td>11.000000</td>\n",
       "      <td>0.000000</td>\n",
       "    </tr>\n",
       "    <tr>\n",
       "      <th>max</th>\n",
       "      <td>49997.800000</td>\n",
       "      <td>23.000000</td>\n",
       "      <td>4.000000</td>\n",
       "      <td>119.000000</td>\n",
       "      <td>14.000000</td>\n",
       "      <td>1.000000</td>\n",
       "    </tr>\n",
       "  </tbody>\n",
       "</table>\n",
       "</div>"
      ],
      "text/plain": [
       "       Transaction_Amount  Time_of_Transaction  \\\n",
       "count        41654.000000         41654.000000   \n",
       "mean          2995.321613            11.471455   \n",
       "std           4923.540252             6.910507   \n",
       "min              5.030000             0.000000   \n",
       "25%           1329.010000             5.000000   \n",
       "50%           2651.460000            12.000000   \n",
       "75%           3718.207500            17.000000   \n",
       "max          49997.800000            23.000000   \n",
       "\n",
       "       Previous_Fraudulent_Transactions   Account_Age  \\\n",
       "count                      41654.000000  41654.000000   \n",
       "mean                           1.996663     59.915782   \n",
       "std                            1.414541     34.354145   \n",
       "min                            0.000000      1.000000   \n",
       "25%                            1.000000     30.000000   \n",
       "50%                            2.000000     60.000000   \n",
       "75%                            3.000000     90.000000   \n",
       "max                            4.000000    119.000000   \n",
       "\n",
       "       Number_of_Transactions_Last_24H    Fraudulent  \n",
       "count                     41654.000000  41654.000000  \n",
       "mean                          7.503193      0.048735  \n",
       "std                           4.017987      0.215316  \n",
       "min                           1.000000      0.000000  \n",
       "25%                           4.000000      0.000000  \n",
       "50%                           7.000000      0.000000  \n",
       "75%                          11.000000      0.000000  \n",
       "max                          14.000000      1.000000  "
      ]
     },
     "execution_count": 69,
     "metadata": {},
     "output_type": "execute_result"
    }
   ],
   "source": [
    "df.describe()"
   ]
  },
  {
   "cell_type": "code",
   "execution_count": 14,
   "id": "f7ac1498",
   "metadata": {},
   "outputs": [
    {
     "data": {
      "text/plain": [
       "(51000, 12)"
      ]
     },
     "execution_count": 14,
     "metadata": {},
     "output_type": "execute_result"
    }
   ],
   "source": [
    "df.shape"
   ]
  },
  {
   "cell_type": "code",
   "execution_count": 6,
   "id": "ab70af00",
   "metadata": {},
   "outputs": [
    {
     "data": {
      "text/plain": [
       "Transaction_ID                         0\n",
       "User_ID                                0\n",
       "Transaction_Amount                  2520\n",
       "Transaction_Type                       0\n",
       "Time_of_Transaction                 2552\n",
       "Device_Used                         2473\n",
       "Location                            2547\n",
       "Previous_Fraudulent_Transactions       0\n",
       "Account_Age                            0\n",
       "Number_of_Transactions_Last_24H        0\n",
       "Payment_Method                      2469\n",
       "Fraudulent                             0\n",
       "dtype: int64"
      ]
     },
     "execution_count": 6,
     "metadata": {},
     "output_type": "execute_result"
    }
   ],
   "source": [
    "##Checking for Missing Observations\n",
    "df.isnull().sum()"
   ]
  },
  {
   "cell_type": "code",
   "execution_count": 7,
   "id": "79878964",
   "metadata": {},
   "outputs": [
    {
     "name": "stdout",
     "output_type": "stream",
     "text": [
      "Transaction_Amount 4.94118 % missing values\n",
      "Time_of_Transaction 5.00392 % missing values\n",
      "Device_Used 4.84902 % missing values\n",
      "Location 4.99412 % missing values\n",
      "Payment_Method 4.84118 % missing values\n"
     ]
    }
   ],
   "source": [
    "#Checking Missing Values\n",
    "features=[i for i in df.columns if df[i].isnull().sum()>=1]\n",
    "for j in features:\n",
    "    print(j,np.round(df[j].isnull().mean()*100,5),'% missing values')"
   ]
  },
  {
   "cell_type": "code",
   "execution_count": 8,
   "id": "856625ea",
   "metadata": {},
   "outputs": [
    {
     "data": {
      "text/plain": [
       "0"
      ]
     },
     "execution_count": 8,
     "metadata": {},
     "output_type": "execute_result"
    }
   ],
   "source": [
    "df['Transaction_Amount'].fillna(df['Transaction_Amount'].median(),inplace=True)\n",
    "df['Transaction_Amount'].isnull().sum()"
   ]
  },
  {
   "cell_type": "code",
   "execution_count": 9,
   "id": "d2bb1780",
   "metadata": {},
   "outputs": [
    {
     "data": {
      "text/html": [
       "<div>\n",
       "<style scoped>\n",
       "    .dataframe tbody tr th:only-of-type {\n",
       "        vertical-align: middle;\n",
       "    }\n",
       "\n",
       "    .dataframe tbody tr th {\n",
       "        vertical-align: top;\n",
       "    }\n",
       "\n",
       "    .dataframe thead th {\n",
       "        text-align: right;\n",
       "    }\n",
       "</style>\n",
       "<table border=\"1\" class=\"dataframe\">\n",
       "  <thead>\n",
       "    <tr style=\"text-align: right;\">\n",
       "      <th></th>\n",
       "      <th>Transaction_ID</th>\n",
       "      <th>User_ID</th>\n",
       "      <th>Transaction_Amount</th>\n",
       "      <th>Transaction_Type</th>\n",
       "      <th>Time_of_Transaction</th>\n",
       "      <th>Device_Used</th>\n",
       "      <th>Location</th>\n",
       "      <th>Previous_Fraudulent_Transactions</th>\n",
       "      <th>Account_Age</th>\n",
       "      <th>Number_of_Transactions_Last_24H</th>\n",
       "      <th>Payment_Method</th>\n",
       "      <th>Fraudulent</th>\n",
       "    </tr>\n",
       "  </thead>\n",
       "  <tbody>\n",
       "    <tr>\n",
       "      <th>0</th>\n",
       "      <td>T1</td>\n",
       "      <td>4174</td>\n",
       "      <td>1292.76</td>\n",
       "      <td>ATM Withdrawal</td>\n",
       "      <td>16.0</td>\n",
       "      <td>Tablet</td>\n",
       "      <td>San Francisco</td>\n",
       "      <td>0</td>\n",
       "      <td>119</td>\n",
       "      <td>13</td>\n",
       "      <td>Debit Card</td>\n",
       "      <td>0</td>\n",
       "    </tr>\n",
       "    <tr>\n",
       "      <th>1</th>\n",
       "      <td>T2</td>\n",
       "      <td>4507</td>\n",
       "      <td>1554.58</td>\n",
       "      <td>ATM Withdrawal</td>\n",
       "      <td>13.0</td>\n",
       "      <td>Mobile</td>\n",
       "      <td>New York</td>\n",
       "      <td>4</td>\n",
       "      <td>79</td>\n",
       "      <td>3</td>\n",
       "      <td>Credit Card</td>\n",
       "      <td>0</td>\n",
       "    </tr>\n",
       "    <tr>\n",
       "      <th>3</th>\n",
       "      <td>T4</td>\n",
       "      <td>2294</td>\n",
       "      <td>100.10</td>\n",
       "      <td>Bill Payment</td>\n",
       "      <td>15.0</td>\n",
       "      <td>Desktop</td>\n",
       "      <td>Chicago</td>\n",
       "      <td>4</td>\n",
       "      <td>3</td>\n",
       "      <td>4</td>\n",
       "      <td>UPI</td>\n",
       "      <td>0</td>\n",
       "    </tr>\n",
       "    <tr>\n",
       "      <th>4</th>\n",
       "      <td>T5</td>\n",
       "      <td>2130</td>\n",
       "      <td>1490.50</td>\n",
       "      <td>POS Payment</td>\n",
       "      <td>19.0</td>\n",
       "      <td>Mobile</td>\n",
       "      <td>San Francisco</td>\n",
       "      <td>2</td>\n",
       "      <td>57</td>\n",
       "      <td>7</td>\n",
       "      <td>Credit Card</td>\n",
       "      <td>0</td>\n",
       "    </tr>\n",
       "    <tr>\n",
       "      <th>5</th>\n",
       "      <td>T6</td>\n",
       "      <td>2095</td>\n",
       "      <td>2372.04</td>\n",
       "      <td>ATM Withdrawal</td>\n",
       "      <td>15.0</td>\n",
       "      <td>Desktop</td>\n",
       "      <td>Boston</td>\n",
       "      <td>3</td>\n",
       "      <td>96</td>\n",
       "      <td>14</td>\n",
       "      <td>Credit Card</td>\n",
       "      <td>0</td>\n",
       "    </tr>\n",
       "    <tr>\n",
       "      <th>...</th>\n",
       "      <td>...</td>\n",
       "      <td>...</td>\n",
       "      <td>...</td>\n",
       "      <td>...</td>\n",
       "      <td>...</td>\n",
       "      <td>...</td>\n",
       "      <td>...</td>\n",
       "      <td>...</td>\n",
       "      <td>...</td>\n",
       "      <td>...</td>\n",
       "      <td>...</td>\n",
       "      <td>...</td>\n",
       "    </tr>\n",
       "    <tr>\n",
       "      <th>50995</th>\n",
       "      <td>T33982</td>\n",
       "      <td>2339</td>\n",
       "      <td>3112.51</td>\n",
       "      <td>Bill Payment</td>\n",
       "      <td>15.0</td>\n",
       "      <td>Mobile</td>\n",
       "      <td>New York</td>\n",
       "      <td>0</td>\n",
       "      <td>7</td>\n",
       "      <td>8</td>\n",
       "      <td>Debit Card</td>\n",
       "      <td>0</td>\n",
       "    </tr>\n",
       "    <tr>\n",
       "      <th>50996</th>\n",
       "      <td>T31261</td>\n",
       "      <td>2152</td>\n",
       "      <td>2897.15</td>\n",
       "      <td>Online Purchase</td>\n",
       "      <td>3.0</td>\n",
       "      <td>Mobile</td>\n",
       "      <td>Miami</td>\n",
       "      <td>1</td>\n",
       "      <td>75</td>\n",
       "      <td>11</td>\n",
       "      <td>Net Banking</td>\n",
       "      <td>1</td>\n",
       "    </tr>\n",
       "    <tr>\n",
       "      <th>50997</th>\n",
       "      <td>T12293</td>\n",
       "      <td>3345</td>\n",
       "      <td>2204.43</td>\n",
       "      <td>POS Payment</td>\n",
       "      <td>18.0</td>\n",
       "      <td>Mobile</td>\n",
       "      <td>San Francisco</td>\n",
       "      <td>3</td>\n",
       "      <td>73</td>\n",
       "      <td>5</td>\n",
       "      <td>Credit Card</td>\n",
       "      <td>0</td>\n",
       "    </tr>\n",
       "    <tr>\n",
       "      <th>50998</th>\n",
       "      <td>T42287</td>\n",
       "      <td>1518</td>\n",
       "      <td>4787.17</td>\n",
       "      <td>POS Payment</td>\n",
       "      <td>19.0</td>\n",
       "      <td>Tablet</td>\n",
       "      <td>New York</td>\n",
       "      <td>2</td>\n",
       "      <td>108</td>\n",
       "      <td>14</td>\n",
       "      <td>Net Banking</td>\n",
       "      <td>0</td>\n",
       "    </tr>\n",
       "    <tr>\n",
       "      <th>50999</th>\n",
       "      <td>T13665</td>\n",
       "      <td>2315</td>\n",
       "      <td>814.72</td>\n",
       "      <td>POS Payment</td>\n",
       "      <td>3.0</td>\n",
       "      <td>Tablet</td>\n",
       "      <td>Los Angeles</td>\n",
       "      <td>0</td>\n",
       "      <td>50</td>\n",
       "      <td>10</td>\n",
       "      <td>Invalid Method</td>\n",
       "      <td>0</td>\n",
       "    </tr>\n",
       "  </tbody>\n",
       "</table>\n",
       "<p>41654 rows × 12 columns</p>\n",
       "</div>"
      ],
      "text/plain": [
       "      Transaction_ID  User_ID  Transaction_Amount Transaction_Type  \\\n",
       "0                 T1     4174             1292.76   ATM Withdrawal   \n",
       "1                 T2     4507             1554.58   ATM Withdrawal   \n",
       "3                 T4     2294              100.10     Bill Payment   \n",
       "4                 T5     2130             1490.50      POS Payment   \n",
       "5                 T6     2095             2372.04   ATM Withdrawal   \n",
       "...              ...      ...                 ...              ...   \n",
       "50995         T33982     2339             3112.51     Bill Payment   \n",
       "50996         T31261     2152             2897.15  Online Purchase   \n",
       "50997         T12293     3345             2204.43      POS Payment   \n",
       "50998         T42287     1518             4787.17      POS Payment   \n",
       "50999         T13665     2315              814.72      POS Payment   \n",
       "\n",
       "       Time_of_Transaction Device_Used       Location  \\\n",
       "0                     16.0      Tablet  San Francisco   \n",
       "1                     13.0      Mobile       New York   \n",
       "3                     15.0     Desktop        Chicago   \n",
       "4                     19.0      Mobile  San Francisco   \n",
       "5                     15.0     Desktop         Boston   \n",
       "...                    ...         ...            ...   \n",
       "50995                 15.0      Mobile       New York   \n",
       "50996                  3.0      Mobile          Miami   \n",
       "50997                 18.0      Mobile  San Francisco   \n",
       "50998                 19.0      Tablet       New York   \n",
       "50999                  3.0      Tablet    Los Angeles   \n",
       "\n",
       "       Previous_Fraudulent_Transactions  Account_Age  \\\n",
       "0                                     0          119   \n",
       "1                                     4           79   \n",
       "3                                     4            3   \n",
       "4                                     2           57   \n",
       "5                                     3           96   \n",
       "...                                 ...          ...   \n",
       "50995                                 0            7   \n",
       "50996                                 1           75   \n",
       "50997                                 3           73   \n",
       "50998                                 2          108   \n",
       "50999                                 0           50   \n",
       "\n",
       "       Number_of_Transactions_Last_24H  Payment_Method  Fraudulent  \n",
       "0                                   13      Debit Card           0  \n",
       "1                                    3     Credit Card           0  \n",
       "3                                    4             UPI           0  \n",
       "4                                    7     Credit Card           0  \n",
       "5                                   14     Credit Card           0  \n",
       "...                                ...             ...         ...  \n",
       "50995                                8      Debit Card           0  \n",
       "50996                               11     Net Banking           1  \n",
       "50997                                5     Credit Card           0  \n",
       "50998                               14     Net Banking           0  \n",
       "50999                               10  Invalid Method           0  \n",
       "\n",
       "[41654 rows x 12 columns]"
      ]
     },
     "execution_count": 9,
     "metadata": {},
     "output_type": "execute_result"
    }
   ],
   "source": [
    "df.dropna(axis=0,inplace=True)\n",
    "df"
   ]
  },
  {
   "cell_type": "code",
   "execution_count": 10,
   "id": "7921981f",
   "metadata": {},
   "outputs": [
    {
     "data": {
      "text/plain": [
       "Transaction_ID                      0\n",
       "User_ID                             0\n",
       "Transaction_Amount                  0\n",
       "Transaction_Type                    0\n",
       "Time_of_Transaction                 0\n",
       "Device_Used                         0\n",
       "Location                            0\n",
       "Previous_Fraudulent_Transactions    0\n",
       "Account_Age                         0\n",
       "Number_of_Transactions_Last_24H     0\n",
       "Payment_Method                      0\n",
       "Fraudulent                          0\n",
       "dtype: int64"
      ]
     },
     "execution_count": 10,
     "metadata": {},
     "output_type": "execute_result"
    }
   ],
   "source": [
    "df.isnull().sum()"
   ]
  },
  {
   "cell_type": "code",
   "execution_count": 11,
   "id": "59266642",
   "metadata": {},
   "outputs": [],
   "source": [
    "df.drop(['Transaction_ID','User_ID'],axis=1,inplace=True)\n"
   ]
  },
  {
   "cell_type": "code",
   "execution_count": 12,
   "id": "7f2c116d",
   "metadata": {},
   "outputs": [
    {
     "data": {
      "text/plain": [
       "Payment_Method\n",
       "UPI               10265\n",
       "Debit Card        10142\n",
       "Net Banking       10005\n",
       "Credit Card        9936\n",
       "Invalid Method     1306\n",
       "Name: count, dtype: int64"
      ]
     },
     "execution_count": 12,
     "metadata": {},
     "output_type": "execute_result"
    }
   ],
   "source": [
    "##To check all unique values\n",
    "df['Payment_Method'].value_counts()"
   ]
  },
  {
   "cell_type": "code",
   "execution_count": 23,
   "id": "fa64cd35",
   "metadata": {},
   "outputs": [
    {
     "name": "stdout",
     "output_type": "stream",
     "text": [
      "Num of Numerical Features : 6\n"
     ]
    },
    {
     "data": {
      "text/plain": [
       "['Transaction_Amount',\n",
       " 'Time_of_Transaction',\n",
       " 'Previous_Fraudulent_Transactions',\n",
       " 'Account_Age',\n",
       " 'Number_of_Transactions_Last_24H',\n",
       " 'Fraudulent']"
      ]
     },
     "execution_count": 23,
     "metadata": {},
     "output_type": "execute_result"
    }
   ],
   "source": [
    "## get all the numeric features\n",
    "num_features = [feature for feature in df.columns if df[feature].dtype != 'O']\n",
    "print('Num of Numerical Features :', len(num_features))\n",
    "num_features"
   ]
  },
  {
   "cell_type": "code",
   "execution_count": 196,
   "id": "c31b744b",
   "metadata": {},
   "outputs": [
    {
     "name": "stdout",
     "output_type": "stream",
     "text": [
      "Num of Categorical Features : 4\n"
     ]
    }
   ],
   "source": [
    "##get all the categorical features\n",
    "cat_features = [feature for feature in df.columns if df[feature].dtype == 'O']\n",
    "print('Num of Categorical Features :', len(cat_features))"
   ]
  },
  {
   "cell_type": "code",
   "execution_count": 24,
   "id": "e0cffa79",
   "metadata": {},
   "outputs": [],
   "source": [
    "num_features1=num_features.remove('Fraudulent')"
   ]
  },
  {
   "cell_type": "code",
   "execution_count": 197,
   "id": "76cb5f7e",
   "metadata": {},
   "outputs": [
    {
     "name": "stdout",
     "output_type": "stream",
     "text": [
      "4\n"
     ]
    }
   ],
   "source": [
    "##Discreet Features\n",
    "disc_feat=[features for features in num_features if len(df[features].unique())<=25 ]\n",
    "print(len(disc_feat))"
   ]
  },
  {
   "cell_type": "code",
   "execution_count": 198,
   "id": "124cf3f9",
   "metadata": {},
   "outputs": [
    {
     "name": "stdout",
     "output_type": "stream",
     "text": [
      "2\n"
     ]
    }
   ],
   "source": [
    "##Continuous Features\n",
    "cont_feat=[features for features in num_features if features not in disc_feat ]\n",
    "print(len(cont_feat))"
   ]
  },
  {
   "cell_type": "code",
   "execution_count": 199,
   "id": "0c2516f6",
   "metadata": {},
   "outputs": [
    {
     "data": {
      "text/plain": [
       "(41654, 10)"
      ]
     },
     "execution_count": 17,
     "metadata": {},
     "output_type": "execute_result"
    }
   ],
   "source": [
    "df.shape"
   ]
  },
  {
   "cell_type": "markdown",
   "id": "1e61c038",
   "metadata": {},
   "source": [
    "MACHINE LEARNING TRAINING"
   ]
  },
  {
   "cell_type": "code",
   "execution_count": 200,
   "id": "08a76dd6",
   "metadata": {},
   "outputs": [],
   "source": [
    "from sklearn.model_selection import train_test_split\n",
    "from sklearn.linear_model import LogisticRegression\n",
    "from sklearn.ensemble import RandomForestClassifier\n",
    "from sklearn.tree import DecisionTreeClassifier\n",
    "from sklearn.neighbors import KNeighborsClassifier\n",
    "from sklearn.metrics import roc_auc_score,roc_curve,recall_score,f1_score,precision_score,accuracy_score"
   ]
  },
  {
   "cell_type": "code",
   "execution_count": 52,
   "id": "f3da020e",
   "metadata": {},
   "outputs": [
    {
     "data": {
      "text/html": [
       "<div>\n",
       "<style scoped>\n",
       "    .dataframe tbody tr th:only-of-type {\n",
       "        vertical-align: middle;\n",
       "    }\n",
       "\n",
       "    .dataframe tbody tr th {\n",
       "        vertical-align: top;\n",
       "    }\n",
       "\n",
       "    .dataframe thead th {\n",
       "        text-align: right;\n",
       "    }\n",
       "</style>\n",
       "<table border=\"1\" class=\"dataframe\">\n",
       "  <thead>\n",
       "    <tr style=\"text-align: right;\">\n",
       "      <th></th>\n",
       "      <th>Transaction_Amount</th>\n",
       "      <th>Transaction_Type</th>\n",
       "      <th>Time_of_Transaction</th>\n",
       "      <th>Device_Used</th>\n",
       "      <th>Location</th>\n",
       "      <th>Previous_Fraudulent_Transactions</th>\n",
       "      <th>Account_Age</th>\n",
       "      <th>Number_of_Transactions_Last_24H</th>\n",
       "      <th>Payment_Method</th>\n",
       "    </tr>\n",
       "  </thead>\n",
       "  <tbody>\n",
       "    <tr>\n",
       "      <th>0</th>\n",
       "      <td>1292.76</td>\n",
       "      <td>ATM Withdrawal</td>\n",
       "      <td>16.0</td>\n",
       "      <td>Tablet</td>\n",
       "      <td>San Francisco</td>\n",
       "      <td>0</td>\n",
       "      <td>119</td>\n",
       "      <td>13</td>\n",
       "      <td>Debit Card</td>\n",
       "    </tr>\n",
       "    <tr>\n",
       "      <th>1</th>\n",
       "      <td>1554.58</td>\n",
       "      <td>ATM Withdrawal</td>\n",
       "      <td>13.0</td>\n",
       "      <td>Mobile</td>\n",
       "      <td>New York</td>\n",
       "      <td>4</td>\n",
       "      <td>79</td>\n",
       "      <td>3</td>\n",
       "      <td>Credit Card</td>\n",
       "    </tr>\n",
       "  </tbody>\n",
       "</table>\n",
       "</div>"
      ],
      "text/plain": [
       "   Transaction_Amount Transaction_Type  Time_of_Transaction Device_Used  \\\n",
       "0             1292.76   ATM Withdrawal                 16.0      Tablet   \n",
       "1             1554.58   ATM Withdrawal                 13.0      Mobile   \n",
       "\n",
       "        Location  Previous_Fraudulent_Transactions  Account_Age  \\\n",
       "0  San Francisco                                 0          119   \n",
       "1       New York                                 4           79   \n",
       "\n",
       "   Number_of_Transactions_Last_24H Payment_Method  \n",
       "0                               13     Debit Card  \n",
       "1                                3    Credit Card  "
      ]
     },
     "execution_count": 52,
     "metadata": {},
     "output_type": "execute_result"
    }
   ],
   "source": [
    "y_old=df['Fraudulent']  #Predictor\n",
    "x_old=df.drop('Fraudulent',axis=1)\n",
    "x_old.head(2)\n"
   ]
  },
  {
   "cell_type": "code",
   "execution_count": 53,
   "id": "9242976d",
   "metadata": {},
   "outputs": [],
   "source": [
    "cat_features = x_old.select_dtypes(include=['object', 'category']).columns.tolist()\n",
    "num_features1 = x_old.select_dtypes(include=['int64', 'float64']).columns.tolist()\n",
    "\n",
    "from sklearn.preprocessing import OneHotEncoder, StandardScaler\n",
    "from sklearn.compose import ColumnTransformer\n",
    "\n",
    "numeric_transformer = StandardScaler()\n",
    "oh_transformer = OneHotEncoder(drop='first')\n",
    "\n",
    "preprocessor = ColumnTransformer(\n",
    "    [\n",
    "         (\"OneHotEncoder\", oh_transformer, cat_features),\n",
    "          (\"StandardScaler\", numeric_transformer, num_features1)\n",
    "    ]\n",
    ")"
   ]
  },
  {
   "cell_type": "code",
   "execution_count": 54,
   "id": "cd03e517",
   "metadata": {},
   "outputs": [],
   "source": [
    "x_old=preprocessor.fit_transform(x_old)\n"
   ]
  },
  {
   "cell_type": "code",
   "execution_count": 29,
   "id": "3b90e5be",
   "metadata": {},
   "outputs": [
    {
     "data": {
      "text/plain": [
       "Fraudulent\n",
       "0    39624\n",
       "1     2030\n",
       "Name: count, dtype: int64"
      ]
     },
     "execution_count": 29,
     "metadata": {},
     "output_type": "execute_result"
    }
   ],
   "source": [
    "y_old.value_counts()"
   ]
  },
  {
   "cell_type": "code",
   "execution_count": 55,
   "id": "e685f196",
   "metadata": {},
   "outputs": [],
   "source": [
    "##As it is a severely imbalanced dataset\n",
    "from imblearn.over_sampling import SMOTE\n",
    "sm = SMOTE(random_state=42)\n",
    "x, y = sm.fit_resample(x_old, y_old)"
   ]
  },
  {
   "cell_type": "code",
   "execution_count": 56,
   "id": "7f655f25",
   "metadata": {},
   "outputs": [
    {
     "data": {
      "text/plain": [
       "(79248,)"
      ]
     },
     "execution_count": 56,
     "metadata": {},
     "output_type": "execute_result"
    }
   ],
   "source": [
    "y.shape"
   ]
  },
  {
   "cell_type": "code",
   "execution_count": 57,
   "id": "4472c0c8",
   "metadata": {},
   "outputs": [],
   "source": [
    "x_train,x_test,y_train,y_test=train_test_split(x,y,test_size=0.3,random_state=42)"
   ]
  },
  {
   "cell_type": "code",
   "execution_count": 33,
   "id": "8aa7cf8e",
   "metadata": {},
   "outputs": [
    {
     "name": "stdout",
     "output_type": "stream",
     "text": [
      "Logisitic Regression\n",
      "Model performance for Training set\n",
      "- Accuracy: 0.5464\n",
      "- F1 score: 0.5463\n",
      "- Precision: 0.5470\n",
      "- Recall: 0.5379\n",
      "- Roc Auc Score: 0.5464\n",
      "----------------------------------\n",
      "Model performance for Test set\n",
      "- Accuracy: 0.5396\n",
      "- F1 score: 0.5396\n",
      "- Precision: 0.5403\n",
      "- Recall: 0.5356\n",
      "- Roc Auc Score: 0.5396\n",
      "===================================\n",
      "\n",
      "\n",
      "Decision Tree\n",
      "Model performance for Training set\n",
      "- Accuracy: 1.0000\n",
      "- F1 score: 1.0000\n",
      "- Precision: 1.0000\n",
      "- Recall: 1.0000\n",
      "- Roc Auc Score: 1.0000\n",
      "----------------------------------\n",
      "Model performance for Test set\n",
      "- Accuracy: 0.9361\n",
      "- F1 score: 0.9361\n",
      "- Precision: 0.9295\n",
      "- Recall: 0.9439\n",
      "- Roc Auc Score: 0.9361\n",
      "===================================\n",
      "\n",
      "\n",
      "Random Forest\n",
      "Model performance for Training set\n",
      "- Accuracy: 1.0000\n",
      "- F1 score: 1.0000\n",
      "- Precision: 1.0000\n",
      "- Recall: 1.0000\n",
      "- Roc Auc Score: 1.0000\n",
      "----------------------------------\n",
      "Model performance for Test set\n",
      "- Accuracy: 0.9754\n",
      "- F1 score: 0.9753\n",
      "- Precision: 0.9976\n",
      "- Recall: 0.9530\n",
      "- Roc Auc Score: 0.9754\n",
      "===================================\n",
      "\n",
      "\n",
      "KNeighborsClassifier\n",
      "Model performance for Training set\n",
      "- Accuracy: 0.9082\n",
      "- F1 score: 0.9075\n",
      "- Precision: 0.8449\n",
      "- Recall: 1.0000\n",
      "- Roc Auc Score: 0.9083\n",
      "----------------------------------\n",
      "Model performance for Test set\n",
      "- Accuracy: 0.8698\n",
      "- F1 score: 0.8675\n",
      "- Precision: 0.7936\n",
      "- Recall: 0.9998\n",
      "- Roc Auc Score: 0.8697\n",
      "===================================\n",
      "\n",
      "\n"
     ]
    }
   ],
   "source": [
    "models={\n",
    "    \"Logisitic Regression\":LogisticRegression(),\n",
    "    \"Decision Tree\":DecisionTreeClassifier(),\n",
    "    \"Random Forest\":RandomForestClassifier(),\n",
    "    \"KNeighborsClassifier\":KNeighborsClassifier()\n",
    "}\n",
    "for i in range(len(list(models))):\n",
    "    model = list(models.values())[i]\n",
    "    model.fit(x_train, y_train) # Train model\n",
    "\n",
    "    # Make predictions\n",
    "    y_train_pred = model.predict(x_train)\n",
    "    y_test_pred = model.predict(x_test)\n",
    "\n",
    "    # Training set performance\n",
    "    model_train_accuracy = accuracy_score(y_train, y_train_pred) # Calculate Accuracy\n",
    "    model_train_f1 = f1_score(y_train, y_train_pred, average='weighted') # Calculate F1-score\n",
    "    model_train_precision = precision_score(y_train, y_train_pred) # Calculate Precision\n",
    "    model_train_recall = recall_score(y_train, y_train_pred) # Calculate Recall\n",
    "    model_train_rocauc_score = roc_auc_score(y_train, y_train_pred)\n",
    "\n",
    "\n",
    "    # Test set performance\n",
    "    model_test_accuracy = accuracy_score(y_test, y_test_pred) # Calculate Accuracy\n",
    "    model_test_f1 = f1_score(y_test, y_test_pred, average='weighted') # Calculate F1-score\n",
    "    model_test_precision = precision_score(y_test, y_test_pred) # Calculate Precision\n",
    "    model_test_recall = recall_score(y_test, y_test_pred) # Calculate Recall\n",
    "    model_test_rocauc_score = roc_auc_score(y_test, y_test_pred) #Calculate Roc\n",
    "\n",
    "\n",
    "    print(list(models.keys())[i])\n",
    "    \n",
    "    print('Model performance for Training set')\n",
    "    print(\"- Accuracy: {:.4f}\".format(model_train_accuracy))\n",
    "    print('- F1 score: {:.4f}'.format(model_train_f1))\n",
    "    \n",
    "    print('- Precision: {:.4f}'.format(model_train_precision))\n",
    "    print('- Recall: {:.4f}'.format(model_train_recall))\n",
    "    print('- Roc Auc Score: {:.4f}'.format(model_train_rocauc_score))\n",
    "\n",
    "    \n",
    "    \n",
    "    print('----------------------------------')\n",
    "    \n",
    "    print('Model performance for Test set')\n",
    "    print('- Accuracy: {:.4f}'.format(model_test_accuracy))\n",
    "    print('- F1 score: {:.4f}'.format(model_test_f1))\n",
    "    print('- Precision: {:.4f}'.format(model_test_precision))\n",
    "    print('- Recall: {:.4f}'.format(model_test_recall))\n",
    "    print('- Roc Auc Score: {:.4f}'.format(model_test_rocauc_score))\n",
    "\n",
    "    \n",
    "    print('='*35)\n",
    "    print('\\n')"
   ]
  },
  {
   "cell_type": "code",
   "execution_count": 34,
   "id": "109b2911",
   "metadata": {},
   "outputs": [],
   "source": [
    "rf_params = {\"max_depth\": [5, 8, 15, None, 10],\n",
    "             \"max_features\": [5, 7, \"auto\", 8],\n",
    "             \"min_samples_split\": [2, 8, 15, 20],\n",
    "             \"n_estimators\": [100, 200, 500, 1000]}"
   ]
  },
  {
   "cell_type": "code",
   "execution_count": 35,
   "id": "b5d9ad84",
   "metadata": {},
   "outputs": [],
   "source": [
    "randomcv_models = [\n",
    "                   (\"RF\", RandomForestClassifier(), rf_params)\n",
    "                   \n",
    "                   ]"
   ]
  },
  {
   "cell_type": "code",
   "execution_count": 232,
   "id": "cf9d8d83",
   "metadata": {},
   "outputs": [
    {
     "name": "stdout",
     "output_type": "stream",
     "text": [
      "Fitting 3 folds for each of 100 candidates, totalling 300 fits\n",
      "---------------- Best Params for RF -------------------\n",
      "{'n_estimators': 500, 'min_samples_split': 2, 'max_features': 5, 'max_depth': None}\n"
     ]
    }
   ],
   "source": [
    "from sklearn.model_selection import RandomizedSearchCV\n",
    "\n",
    "model_param = {}\n",
    "for name, model, params in randomcv_models:\n",
    "    random = RandomizedSearchCV(estimator=model,\n",
    "                                   param_distributions=params,\n",
    "                                   n_iter=100,\n",
    "                                   cv=3,\n",
    "                                   verbose=2,\n",
    "                                   n_jobs=-1)\n",
    "    random.fit(x_train, y_train)\n",
    "    model_param[name] = random.best_params_\n",
    "\n",
    "for model_name in model_param:\n",
    "    print(f\"---------------- Best Params for {model_name} -------------------\")\n",
    "    print(model_param[model_name])"
   ]
  },
  {
   "cell_type": "code",
   "execution_count": 36,
   "id": "0a921675",
   "metadata": {},
   "outputs": [
    {
     "data": {
      "image/png": "[encoded data removed]",
      "text/plain": [
       "<Figure size 640x480 with 1 Axes>"
      ]
     },
     "metadata": {},
     "output_type": "display_data"
    }
   ],
   "source": [
    "rf_model=RandomForestClassifier(n_estimators=500,min_samples_split=2,max_features=5,max_depth=None)\n",
    "rf_model.fit(x_train,y_train)\n",
    "y_pred=rf_model.predict(x_test)\n",
    "fpr, tpr, thresholds = roc_curve(y_test, rf_model.predict_proba(x_test)[:,1])\n",
    "plt.plot(fpr, tpr, label='%s ROC (area = %0.2f)' % ('Random Forest Classifier',0.976))\n",
    "plt.plot([0, 1], [0, 1],'r--')\n",
    "plt.xlim([0.0, 1.0])\n",
    "plt.ylim([0.0, 1.05])\n",
    "plt.xlabel('1-Specificity(False Positive Rate)')\n",
    "plt.ylabel('Sensitivity(True Positive Rate)')\n",
    "plt.title('Receiver Operating Characteristic')\n",
    "plt.legend(loc=\"lower right\")\n",
    "plt.savefig(\"auc.png\")\n",
    "plt.show() \n",
    "\n",
    "\n"
   ]
  },
  {
   "cell_type": "code",
   "execution_count": 37,
   "id": "5dbbf95e",
   "metadata": {},
   "outputs": [],
   "source": [
    "import pickle "
   ]
  },
  {
   "cell_type": "code",
   "execution_count": 58,
   "id": "b1c5ffef",
   "metadata": {},
   "outputs": [],
   "source": [
    "with open('random_forest_model.pkl', 'wb') as f:\n",
    "    pickle.dump(model, f)\n",
    "\n",
    "with open('pipeline.pkl', 'wb') as f:\n",
    "    pickle.dump(preprocessor, f)    "
   ]
  }
 ],
 "metadata": {
  "kernelspec": {
   "display_name": "base",
   "language": "python",
   "name": "python3"
  },
  "language_info": {
   "codemirror_mode": {
    "name": "ipython",
    "version": 3
   },
   "file_extension": ".py",
   "mimetype": "text/x-python",
   "name": "python",
   "nbconvert_exporter": "python",
   "pygments_lexer": "ipython3",
   "version": "3.12.7"
  }
 },
 "nbformat": 4,
 "nbformat_minor": 5
}
